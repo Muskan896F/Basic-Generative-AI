{
 "cells": [
  {
   "cell_type": "markdown",
   "metadata": {},
   "source": [
    "# function calling "
   ]
  },
  {
   "cell_type": "code",
   "execution_count": 1,
   "metadata": {},
   "outputs": [],
   "source": [
    "import os\n",
    "import openai\n",
    "from dotenv import load_dotenv"
   ]
  },
  {
   "cell_type": "code",
   "execution_count": 2,
   "metadata": {},
   "outputs": [],
   "source": [
    "load_dotenv()\n",
    "OPENAI_API_KEY = os.getenv(\"OPENAI_API_KEY\")\n",
    "openai.api_key = OPENAI_API_KEY\n"
   ]
  },
  {
   "cell_type": "code",
   "execution_count": 3,
   "metadata": {},
   "outputs": [
    {
     "name": "stdout",
     "output_type": "stream",
     "text": [
      "Hello! I'm just a computer program, so I don't have feelings, but I'm here to assist you. How can I help you today?\n"
     ]
    }
   ],
   "source": [
    "prompt = \"Hello, How are you?\"\n",
    "\n",
    "response = openai.ChatCompletion.create(\n",
    "    model = \"gpt-3.5-turbo\",\n",
    "    messages = [\n",
    "        {\"role\": \"system\", \"content\": \"You are a helpful assistant.\"},\n",
    "        {\"role\": \"user\", \"content\": prompt}\n",
    "    ]\n",
    ")\n",
    "\n",
    "print(response[\"choices\"][0][\"message\"][\"content\"])"
   ]
  },
  {
   "cell_type": "code",
   "execution_count": 4,
   "metadata": {},
   "outputs": [],
   "source": [
    "import requests\n",
    "def get_current_weather(location):\n",
    "    \"\"\"Get the current weather in a given location\"\"\"\n",
    "\n",
    "    url = \"https://ai-weather-by-meteosource.p.rapidapi.com/find_places\"\n",
    "\n",
    "    querystring = {\"text\":location}\n",
    "\n",
    "    headers = {\n",
    "      'x-rapidapi-key': \"156877d1e1msh6806b57dfec44b9p1bd2c8jsn796f2ff15790\",\n",
    "      'x-rapidapi-host': \"ai-weather-by-meteosource.p.rapidapi.com\"\n",
    "    }\n",
    "\n",
    "    response = requests.get(url, headers=headers, params=querystring)\n",
    "\n",
    "    print(response.json())\n",
    "  \n",
    "    return response.json()"
   ]
  },
  {
   "cell_type": "code",
   "execution_count": 5,
   "metadata": {},
   "outputs": [
    {
     "name": "stdout",
     "output_type": "stream",
     "text": [
      "[{'name': 'Bengaluru', 'place_id': 'bengaluru', 'adm_area1': 'Karnataka', 'adm_area2': 'Bengaluru Urban', 'country': 'India', 'lat': '12.97194N', 'lon': '77.59369E', 'timezone': 'Asia/Kolkata', 'type': 'settlement'}, {'name': 'Bengaluru Urban', 'place_id': 'bangalore-urban', 'adm_area1': 'Karnataka', 'adm_area2': 'Bengaluru Urban', 'country': 'India', 'lat': '13.0N', 'lon': '77.58333E', 'timezone': 'Asia/Kolkata', 'type': 'administrative_area'}, {'name': 'Yelahanka', 'place_id': 'yelahanka', 'adm_area1': 'Karnataka', 'adm_area2': 'Bengaluru Urban', 'country': 'India', 'lat': '13.10073N', 'lon': '77.59632E', 'timezone': 'Asia/Kolkata', 'type': 'settlement'}, {'name': 'Anekal', 'place_id': 'anekal', 'adm_area1': 'Karnataka', 'adm_area2': 'Bengaluru Urban', 'country': 'India', 'lat': '12.7111N', 'lon': '77.69557E', 'timezone': 'Asia/Kolkata', 'type': 'settlement'}, {'name': 'Devanahalli', 'place_id': 'devanhalli', 'adm_area1': 'Karnataka', 'adm_area2': 'Bengaluru Rural', 'country': 'India', 'lat': '13.24655N', 'lon': '77.71183E', 'timezone': 'Asia/Kolkata', 'type': 'settlement'}, {'name': 'Dod Ballāpur', 'place_id': 'dod-ballapur', 'adm_area1': 'Karnataka', 'adm_area2': 'Bengaluru Rural', 'country': 'India', 'lat': '13.29452N', 'lon': '77.53777E', 'timezone': 'Asia/Kolkata', 'type': 'settlement'}, {'name': 'Hoskote', 'place_id': 'hoskote', 'adm_area1': 'Karnataka', 'adm_area2': 'Bengaluru Rural', 'country': 'India', 'lat': '13.0707N', 'lon': '77.79814E', 'timezone': 'Asia/Kolkata', 'type': 'settlement'}, {'name': 'Vadigenhalli', 'place_id': 'vadigenhalli', 'adm_area1': 'Karnataka', 'adm_area2': 'Bengaluru Rural', 'country': 'India', 'lat': '13.29724N', 'lon': '77.80184E', 'timezone': 'Asia/Kolkata', 'type': 'settlement'}, {'name': 'Nelamangala', 'place_id': 'nelamangala', 'adm_area1': 'Karnataka', 'adm_area2': 'Bengaluru Rural', 'country': 'India', 'lat': '13.09978N', 'lon': '77.39364E', 'timezone': 'Asia/Kolkata', 'type': 'settlement'}, {'name': 'Bengaluru Rural', 'place_id': 'bangalore-rural', 'adm_area1': 'Karnataka', 'adm_area2': 'Bengaluru Rural', 'country': 'India', 'lat': '13.22567N', 'lon': '77.57501E', 'timezone': 'Asia/Kolkata', 'type': 'administrative_area'}]\n"
     ]
    }
   ],
   "source": [
    "response=get_current_weather(\"bangalore\")"
   ]
  },
  {
   "cell_type": "code",
   "execution_count": 6,
   "metadata": {},
   "outputs": [],
   "source": [
    "functions = [\n",
    "        {\n",
    "            \"name\": \"get_current_weather\",\n",
    "            \"description\": \"Get the current weather in a given location\",\n",
    "            \"parameters\": {\n",
    "                \"type\": \"object\",\n",
    "                \"properties\": {\n",
    "                    \"location\": {\n",
    "                        \"type\": \"string\",\n",
    "                        \"description\": \"The city and state, e.g. San Francisco, CA\",\n",
    "                    },\n",
    "                    \n",
    "                },\n",
    "                \"required\": [\"location\"],\n",
    "            },\n",
    "        }\n",
    "    ]"
   ]
  },
  {
   "cell_type": "code",
   "execution_count": 7,
   "metadata": {},
   "outputs": [],
   "source": [
    "\n",
    "\n",
    "user_message=\"Hi There\"\n",
    "messages=[]\n",
    "messages.append({\"role\": \"user\", \"content\":user_message})\n",
    "\n",
    "completion=openai.ChatCompletion.create(\n",
    "    model=\"gpt-3.5-turbo\",\n",
    "    messages= messages\n",
    "    \n",
    ")"
   ]
  },
  {
   "cell_type": "code",
   "execution_count": 8,
   "metadata": {},
   "outputs": [
    {
     "data": {
      "text/plain": [
       "<OpenAIObject at 0x1f0c8025f70> JSON: {\n",
       "  \"role\": \"assistant\",\n",
       "  \"content\": \"Hello! How can I assist you today?\",\n",
       "  \"refusal\": null\n",
       "}"
      ]
     },
     "execution_count": 8,
     "metadata": {},
     "output_type": "execute_result"
    }
   ],
   "source": [
    "completion.choices[0].message"
   ]
  },
  {
   "cell_type": "code",
   "execution_count": 9,
   "metadata": {},
   "outputs": [
    {
     "data": {
      "text/plain": [
       "[{'role': 'user', 'content': 'Hi There'}]"
      ]
     },
     "execution_count": 9,
     "metadata": {},
     "output_type": "execute_result"
    }
   ],
   "source": [
    "messages"
   ]
  },
  {
   "cell_type": "code",
   "execution_count": 10,
   "metadata": {},
   "outputs": [],
   "source": [
    "user_message=\"What is the temperature of Bangalore\"\n",
    "\n",
    "messages.append({\"role\": \"user\", \"content\": user_message})\n",
    "\n",
    "completion=openai.ChatCompletion.create(\n",
    "    model=\"gpt-3.5-turbo\",\n",
    "    messages=messages,\n",
    "    functions=functions\n",
    "    \n",
    ")"
   ]
  },
  {
   "cell_type": "code",
   "execution_count": 11,
   "metadata": {},
   "outputs": [
    {
     "name": "stdout",
     "output_type": "stream",
     "text": [
      "{\n",
      "  \"role\": \"assistant\",\n",
      "  \"content\": null,\n",
      "  \"function_call\": {\n",
      "    \"name\": \"get_current_weather\",\n",
      "    \"arguments\": \"{\\\"location\\\":\\\"Bangalore\\\"}\"\n",
      "  },\n",
      "  \"refusal\": null\n",
      "}\n"
     ]
    }
   ],
   "source": [
    "print(completion.choices[0].message)"
   ]
  },
  {
   "cell_type": "code",
   "execution_count": 12,
   "metadata": {},
   "outputs": [],
   "source": [
    "response=completion.choices[0].message"
   ]
  },
  {
   "cell_type": "code",
   "execution_count": 13,
   "metadata": {},
   "outputs": [
    {
     "data": {
      "text/plain": [
       "<OpenAIObject at 0x1f0c8025df0> JSON: {\n",
       "  \"role\": \"assistant\",\n",
       "  \"content\": null,\n",
       "  \"function_call\": {\n",
       "    \"name\": \"get_current_weather\",\n",
       "    \"arguments\": \"{\\\"location\\\":\\\"Bangalore\\\"}\"\n",
       "  },\n",
       "  \"refusal\": null\n",
       "}"
      ]
     },
     "execution_count": 13,
     "metadata": {},
     "output_type": "execute_result"
    }
   ],
   "source": [
    "response"
   ]
  },
  {
   "cell_type": "code",
   "execution_count": 14,
   "metadata": {},
   "outputs": [
    {
     "name": "stdout",
     "output_type": "stream",
     "text": [
      "get_current_weather\n"
     ]
    }
   ],
   "source": [
    "function_name=response['function_call']['name']\n",
    "print(function_name)\n"
   ]
  },
  {
   "cell_type": "code",
   "execution_count": 15,
   "metadata": {},
   "outputs": [
    {
     "name": "stdout",
     "output_type": "stream",
     "text": [
      "Bangalore\n"
     ]
    }
   ],
   "source": [
    "import json\n",
    "location=eval(response['function_call']['arguments'])['location']\n",
    "print(location)"
   ]
  },
  {
   "cell_type": "code",
   "execution_count": 16,
   "metadata": {},
   "outputs": [],
   "source": [
    "messages.append(response)  # extend conversation with assistant's reply\n",
    "messages.append(\n",
    "    {\n",
    "        \"role\": \"function\",\n",
    "        \"name\": function_name,\n",
    "        \"content\": location,\n",
    "    }\n",
    ")"
   ]
  },
  {
   "cell_type": "code",
   "execution_count": 17,
   "metadata": {},
   "outputs": [
    {
     "data": {
      "text/plain": [
       "[{'role': 'user', 'content': 'Hi There'},\n",
       " {'role': 'user', 'content': 'What is the temperature of Bangalore'},\n",
       " <OpenAIObject at 0x1f0c8025df0> JSON: {\n",
       "   \"role\": \"assistant\",\n",
       "   \"content\": null,\n",
       "   \"function_call\": {\n",
       "     \"name\": \"get_current_weather\",\n",
       "     \"arguments\": \"{\\\"location\\\":\\\"Bangalore\\\"}\"\n",
       "   },\n",
       "   \"refusal\": null\n",
       " },\n",
       " {'role': 'function', 'name': 'get_current_weather', 'content': 'Bangalore'}]"
      ]
     },
     "execution_count": 17,
     "metadata": {},
     "output_type": "execute_result"
    }
   ],
   "source": [
    "messages"
   ]
  },
  {
   "cell_type": "code",
   "execution_count": 18,
   "metadata": {},
   "outputs": [],
   "source": [
    "# extend conversation with function response\n",
    "second_response = openai.ChatCompletion.create(\n",
    "    model=\"gpt-3.5-turbo\",\n",
    "    messages=messages,\n",
    "    functions=functions\n",
    ")  # get a new response from GPT where it can see the function response\n"
   ]
  },
  {
   "cell_type": "code",
   "execution_count": 19,
   "metadata": {},
   "outputs": [
    {
     "name": "stdout",
     "output_type": "stream",
     "text": [
      "{\n",
      "  \"role\": \"assistant\",\n",
      "  \"content\": \"The current temperature in Bangalore is 26\\u00b0C.\",\n",
      "  \"refusal\": null\n",
      "}\n"
     ]
    }
   ],
   "source": [
    "print(second_response.choices[0].message)"
   ]
  },
  {
   "cell_type": "code",
   "execution_count": 20,
   "metadata": {},
   "outputs": [
    {
     "name": "stdout",
     "output_type": "stream",
     "text": [
      "The End\n"
     ]
    }
   ],
   "source": [
    "print(\"The End\")"
   ]
  },
  {
   "cell_type": "code",
   "execution_count": null,
   "metadata": {},
   "outputs": [],
   "source": []
  }
 ],
 "metadata": {
  "kernelspec": {
   "display_name": "Python 3",
   "language": "python",
   "name": "python3"
  },
  "language_info": {
   "codemirror_mode": {
    "name": "ipython",
    "version": 3
   },
   "file_extension": ".py",
   "mimetype": "text/x-python",
   "name": "python",
   "nbconvert_exporter": "python",
   "pygments_lexer": "ipython3",
   "version": "3.11.0"
  }
 },
 "nbformat": 4,
 "nbformat_minor": 2
}
