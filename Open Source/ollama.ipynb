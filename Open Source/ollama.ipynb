{
 "cells": [
  {
   "cell_type": "code",
   "execution_count": 3,
   "metadata": {},
   "outputs": [],
   "source": [
    "import os\n",
    "from dotenv import load_dotenv\n",
    "from langchain_community.llms import Ollama"
   ]
  },
  {
   "cell_type": "code",
   "execution_count": 4,
   "metadata": {},
   "outputs": [],
   "source": [
    "from langchain_core.prompts import ChatPromptTemplate\n",
    "from langchain_core.output_parsers import StrOutputParser"
   ]
  },
  {
   "cell_type": "code",
   "execution_count": 5,
   "metadata": {},
   "outputs": [
    {
     "name": "stderr",
     "output_type": "stream",
     "text": [
      "C:\\Users\\HP\\AppData\\Local\\Temp\\ipykernel_13784\\168757482.py:1: LangChainDeprecationWarning: The class `Ollama` was deprecated in LangChain 0.3.1 and will be removed in 1.0.0. An updated version of the class exists in the :class:`~langchain-ollama package and should be used instead. To use it run `pip install -U :class:`~langchain-ollama` and import as `from :class:`~langchain_ollama import OllamaLLM``.\n",
      "  llm=Ollama(model=\"gemma:2b\")\n"
     ]
    }
   ],
   "source": [
    "llm=Ollama(model=\"gemma:2b\")"
   ]
  },
  {
   "cell_type": "code",
   "execution_count": 7,
   "metadata": {},
   "outputs": [],
   "source": [
    "prompt=ChatPromptTemplate.from_messages(\n",
    "    [\n",
    "        (\"system\", \"You are a helpful assistant. Please response to the user request only based on the given context\"),\n",
    "        (\"user\",\"Question:{question}\\nContext:{context}\")\n",
    "    ]\n",
    ")"
   ]
  },
  {
   "cell_type": "code",
   "execution_count": 8,
   "metadata": {},
   "outputs": [],
   "source": [
    "output_parser=StrOutputParser()"
   ]
  },
  {
   "cell_type": "code",
   "execution_count": 9,
   "metadata": {},
   "outputs": [],
   "source": [
    "chain=prompt|llm|output_parser"
   ]
  },
  {
   "cell_type": "code",
   "execution_count": 11,
   "metadata": {},
   "outputs": [],
   "source": [
    "question=\"summarize that article about waterlogging\"\n",
    "context=\"\"\"\n",
    "\n",
    "Waterlogging occurs when soil becomes saturated with water, often due to excessive rainfall, poor drainage systems, impermeable soil types, or human activities such as urbanization and deforestation. This condition disrupts plant growth by limiting root respiration and nutrient uptake, reduces agricultural productivity, damages urban infrastructure, and increases the risk of waterborne diseases. Prolonged waterlogging can also harm ecosystems by reducing biodiversity and altering soil structure. Solutions include implementing efficient drainage systems, adopting sustainable urban planning with permeable surfaces and green spaces, and employing agricultural techniques like raised beds and subsurface drainage. Addressing waterlogging requires a combination of infrastructure improvements, environmental conservation, and innovative land management practices.\n",
    "\"\"\""
   ]
  },
  {
   "cell_type": "code",
   "execution_count": 12,
   "metadata": {},
   "outputs": [
    {
     "name": "stdout",
     "output_type": "stream",
     "text": [
      "Sure, here's a summary of the article about waterlogging:\n",
      "\n",
      "Waterlogging occurs when the soil becomes saturated with water. This can be caused by heavy rainfall, poor drainage, impermeable soil types, or human activities such as urbanization and deforestation. Waterlogging disrupts plant growth by limiting root respiration and nutrient uptake, reducing agricultural productivity, damaging urban infrastructure, and increasing the risk of waterborne diseases. Prolonged waterlogging can also harm ecosystems by reducing biodiversity and altering soil structure.\n",
      "\n",
      "To address waterlogging, solutions such as implementing efficient drainage systems, adopting sustainable urban planning, and employing agricultural techniques like raised beds and subsurface drainage are recommended.\n"
     ]
    }
   ],
   "source": [
    "print(chain.invoke({\"question\":question,\"context\":context}))"
   ]
  },
  {
   "cell_type": "code",
   "execution_count": 13,
   "metadata": {},
   "outputs": [
    {
     "name": "stdout",
     "output_type": "stream",
     "text": [
      "The End\n"
     ]
    }
   ],
   "source": [
    "print(\"The End\")"
   ]
  }
 ],
 "metadata": {
  "kernelspec": {
   "display_name": "Python 3",
   "language": "python",
   "name": "python3"
  },
  "language_info": {
   "codemirror_mode": {
    "name": "ipython",
    "version": 3
   },
   "file_extension": ".py",
   "mimetype": "text/x-python",
   "name": "python",
   "nbconvert_exporter": "python",
   "pygments_lexer": "ipython3",
   "version": "3.11.0"
  }
 },
 "nbformat": 4,
 "nbformat_minor": 2
}
